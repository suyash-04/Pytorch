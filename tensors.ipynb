{
 "cells": [
  {
   "cell_type": "code",
   "execution_count": 2,
   "id": "b34e20e7",
   "metadata": {},
   "outputs": [
    {
     "name": "stdout",
     "output_type": "stream",
     "text": [
      "tensor([[1., 2.],\n",
      "        [3., 4.]])\n"
     ]
    }
   ],
   "source": [
    "import torch\n",
    "\n",
    "# Define a tensor\n",
    "tensor = torch.tensor([[1, 2], [3, 4]], dtype=torch.float32)\n",
    "\n",
    "print(tensor)"
   ]
  },
  {
   "cell_type": "code",
   "execution_count": 3,
   "id": "ae2b75cf",
   "metadata": {},
   "outputs": [
    {
     "data": {
      "text/plain": [
       "tensor([[-4.6479e+18,  1.8469e-42,  0.0000e+00],\n",
       "        [ 0.0000e+00,  0.0000e+00,  0.0000e+00]])"
      ]
     },
     "execution_count": 3,
     "metadata": {},
     "output_type": "execute_result"
    }
   ],
   "source": [
    "torch.empty(2, 3)"
   ]
  },
  {
   "cell_type": "code",
   "execution_count": 4,
   "id": "5781aa20",
   "metadata": {},
   "outputs": [],
   "source": [
    "a = torch.tensor([[1, 2], [3, 4]])"
   ]
  },
  {
   "cell_type": "code",
   "execution_count": 5,
   "id": "852d86f3",
   "metadata": {},
   "outputs": [
    {
     "data": {
      "text/plain": [
       "torch.Tensor"
      ]
     },
     "execution_count": 5,
     "metadata": {},
     "output_type": "execute_result"
    }
   ],
   "source": [
    "type(a)"
   ]
  },
  {
   "cell_type": "code",
   "execution_count": 7,
   "id": "76b002d4",
   "metadata": {},
   "outputs": [
    {
     "data": {
      "text/plain": [
       "tensor([[0.7835, 0.9349, 0.3892],\n",
       "        [0.6364, 0.1418, 0.1311]])"
      ]
     },
     "execution_count": 7,
     "metadata": {},
     "output_type": "execute_result"
    }
   ],
   "source": [
    "torch.rand(2,3)"
   ]
  },
  {
   "cell_type": "code",
   "execution_count": 8,
   "id": "0c619143",
   "metadata": {},
   "outputs": [
    {
     "data": {
      "text/plain": [
       "tensor([1, 3, 5, 7, 9])"
      ]
     },
     "execution_count": 8,
     "metadata": {},
     "output_type": "execute_result"
    }
   ],
   "source": [
    "torch.arange(1, 10, 2)"
   ]
  },
  {
   "cell_type": "code",
   "execution_count": 9,
   "id": "0d2e7cfa",
   "metadata": {},
   "outputs": [
    {
     "data": {
      "text/plain": [
       "tensor([ 1.0000,  3.2500,  5.5000,  7.7500, 10.0000])"
      ]
     },
     "execution_count": 9,
     "metadata": {},
     "output_type": "execute_result"
    }
   ],
   "source": [
    "torch.linspace(1, 10, 5)"
   ]
  },
  {
   "cell_type": "code",
   "execution_count": 10,
   "id": "eb7911ca",
   "metadata": {},
   "outputs": [
    {
     "data": {
      "text/plain": [
       "tensor([[1., 0., 0., 0., 0.],\n",
       "        [0., 1., 0., 0., 0.],\n",
       "        [0., 0., 1., 0., 0.],\n",
       "        [0., 0., 0., 1., 0.],\n",
       "        [0., 0., 0., 0., 1.]])"
      ]
     },
     "execution_count": 10,
     "metadata": {},
     "output_type": "execute_result"
    }
   ],
   "source": [
    "torch.eye(5)"
   ]
  },
  {
   "cell_type": "code",
   "execution_count": 11,
   "id": "34bdf821",
   "metadata": {},
   "outputs": [
    {
     "data": {
      "text/plain": [
       "tensor([[5, 5, 5],\n",
       "        [5, 5, 5]])"
      ]
     },
     "execution_count": 11,
     "metadata": {},
     "output_type": "execute_result"
    }
   ],
   "source": [
    "torch.full((2, 3), 5)"
   ]
  },
  {
   "cell_type": "code",
   "execution_count": 13,
   "id": "163229c0",
   "metadata": {},
   "outputs": [],
   "source": [
    "#tensor shapes\n",
    "x= torch.tensor([[1, 2], [3, 4]])"
   ]
  },
  {
   "cell_type": "code",
   "execution_count": 14,
   "id": "b24c686a",
   "metadata": {},
   "outputs": [
    {
     "data": {
      "text/plain": [
       "torch.Size([2, 2])"
      ]
     },
     "execution_count": 14,
     "metadata": {},
     "output_type": "execute_result"
    }
   ],
   "source": [
    "x.shape"
   ]
  },
  {
   "cell_type": "code",
   "execution_count": 15,
   "id": "1444f0eb",
   "metadata": {},
   "outputs": [
    {
     "data": {
      "text/plain": [
       "<function Tensor.size>"
      ]
     },
     "execution_count": 15,
     "metadata": {},
     "output_type": "execute_result"
    }
   ],
   "source": [
    "x.size"
   ]
  },
  {
   "cell_type": "code",
   "execution_count": 18,
   "id": "9b7181c3",
   "metadata": {},
   "outputs": [
    {
     "data": {
      "text/plain": [
       "tensor([[0, 0],\n",
       "        [0, 0]])"
      ]
     },
     "execution_count": 18,
     "metadata": {},
     "output_type": "execute_result"
    }
   ],
   "source": [
    "torch.empty_like(x)"
   ]
  },
  {
   "cell_type": "code",
   "execution_count": 17,
   "id": "19b050d2",
   "metadata": {},
   "outputs": [
    {
     "data": {
      "text/plain": [
       "tensor([[0, 0],\n",
       "        [0, 0]])"
      ]
     },
     "execution_count": 17,
     "metadata": {},
     "output_type": "execute_result"
    }
   ],
   "source": [
    "torch.zeros_like(x)"
   ]
  },
  {
   "cell_type": "code",
   "execution_count": 20,
   "id": "f9275b23",
   "metadata": {},
   "outputs": [
    {
     "data": {
      "text/plain": [
       "tensor([[1, 1],\n",
       "        [1, 1]])"
      ]
     },
     "execution_count": 20,
     "metadata": {},
     "output_type": "execute_result"
    }
   ],
   "source": [
    "torch.ones_like(x)"
   ]
  },
  {
   "cell_type": "code",
   "execution_count": 25,
   "id": "59b82603",
   "metadata": {},
   "outputs": [
    {
     "data": {
      "text/plain": [
       "torch.int64"
      ]
     },
     "execution_count": 25,
     "metadata": {},
     "output_type": "execute_result"
    }
   ],
   "source": [
    "#TENSOR DATA TYPES\n",
    "x.dtype"
   ]
  },
  {
   "cell_type": "code",
   "execution_count": 26,
   "id": "fbb985d2",
   "metadata": {},
   "outputs": [],
   "source": [
    "y = torch.tensor([[1.5, 2.3], [3.4, 4.7]], dtype=torch.int32)"
   ]
  },
  {
   "cell_type": "code",
   "execution_count": 27,
   "id": "15d4b734",
   "metadata": {},
   "outputs": [
    {
     "data": {
      "text/plain": [
       "tensor([[1, 2],\n",
       "        [3, 4]], dtype=torch.int32)"
      ]
     },
     "execution_count": 27,
     "metadata": {},
     "output_type": "execute_result"
    }
   ],
   "source": [
    "y"
   ]
  },
  {
   "cell_type": "code",
   "execution_count": 31,
   "id": "93c0435e",
   "metadata": {},
   "outputs": [],
   "source": [
    "\n",
    "x=torch.tensor([[1.5, 2.3], [3.4, 4.7]], dtype=torch.float32)"
   ]
  },
  {
   "cell_type": "code",
   "execution_count": 32,
   "id": "ccb8a8c3",
   "metadata": {},
   "outputs": [
    {
     "data": {
      "text/plain": [
       "tensor([[1.5000, 2.3000],\n",
       "        [3.4000, 4.7000]])"
      ]
     },
     "execution_count": 32,
     "metadata": {},
     "output_type": "execute_result"
    }
   ],
   "source": [
    "x"
   ]
  },
  {
   "cell_type": "code",
   "execution_count": 33,
   "id": "6ccb2757",
   "metadata": {},
   "outputs": [
    {
     "data": {
      "text/plain": [
       "tensor([[1, 2],\n",
       "        [3, 4]], dtype=torch.int32)"
      ]
     },
     "execution_count": 33,
     "metadata": {},
     "output_type": "execute_result"
    }
   ],
   "source": [
    "x.to(torch.int32)"
   ]
  },
  {
   "cell_type": "code",
   "execution_count": 35,
   "id": "58b915c3",
   "metadata": {},
   "outputs": [
    {
     "data": {
      "text/plain": [
       "tensor([[0.4322, 0.1825],\n",
       "        [0.4272, 0.7887]])"
      ]
     },
     "execution_count": 35,
     "metadata": {},
     "output_type": "execute_result"
    }
   ],
   "source": [
    "torch.rand_like(x,dtype=torch.float32)"
   ]
  },
  {
   "cell_type": "code",
   "execution_count": 37,
   "id": "00395592",
   "metadata": {},
   "outputs": [],
   "source": [
    "\n",
    "#MATHEMATICAL OPERATIONS\n",
    "x= torch.rand(2,2)"
   ]
  },
  {
   "cell_type": "code",
   "execution_count": 43,
   "id": "372fba78",
   "metadata": {},
   "outputs": [
    {
     "data": {
      "text/plain": [
       "tensor([[0.2559, 0.7720],\n",
       "        [0.1568, 0.4874]])"
      ]
     },
     "execution_count": 43,
     "metadata": {},
     "output_type": "execute_result"
    }
   ],
   "source": [
    "x"
   ]
  },
  {
   "cell_type": "code",
   "execution_count": 46,
   "id": "cf54410b",
   "metadata": {},
   "outputs": [
    {
     "data": {
      "text/plain": [
       "tensor([[1.0238, 3.0881],\n",
       "        [0.6273, 1.9494]])"
      ]
     },
     "execution_count": 46,
     "metadata": {},
     "output_type": "execute_result"
    }
   ],
   "source": [
    "#scalar operations\n",
    "x+2\n",
    "x-2\n",
    "x/3\n",
    "x*4"
   ]
  },
  {
   "cell_type": "code",
   "execution_count": 47,
   "id": "91113bff",
   "metadata": {},
   "outputs": [
    {
     "data": {
      "text/plain": [
       "tensor([[0.0655, 0.5960],\n",
       "        [0.0246, 0.2375]])"
      ]
     },
     "execution_count": 47,
     "metadata": {},
     "output_type": "execute_result"
    }
   ],
   "source": [
    "x**2"
   ]
  },
  {
   "cell_type": "code",
   "execution_count": 49,
   "id": "fbbeb0e3",
   "metadata": {},
   "outputs": [],
   "source": [
    "a = torch.tensor([[1, 2], [3, 4]])\n",
    "b= torch.tensor([[5, 6], [7, 8]])"
   ]
  },
  {
   "cell_type": "code",
   "execution_count": 50,
   "id": "92981be6",
   "metadata": {},
   "outputs": [
    {
     "data": {
      "text/plain": [
       "tensor([[ 5, 12],\n",
       "        [21, 32]])"
      ]
     },
     "execution_count": 50,
     "metadata": {},
     "output_type": "execute_result"
    }
   ],
   "source": [
    "a*b"
   ]
  },
  {
   "cell_type": "code",
   "execution_count": 51,
   "id": "e8dfe73a",
   "metadata": {},
   "outputs": [
    {
     "data": {
      "text/plain": [
       "tensor([[    1,    64],\n",
       "        [ 2187, 65536]])"
      ]
     },
     "execution_count": 51,
     "metadata": {},
     "output_type": "execute_result"
    }
   ],
   "source": [
    "a**b"
   ]
  },
  {
   "cell_type": "code",
   "execution_count": 52,
   "id": "e86fcb4f",
   "metadata": {},
   "outputs": [
    {
     "data": {
      "text/plain": [
       "tensor([[1, 2],\n",
       "        [3, 4]])"
      ]
     },
     "execution_count": 52,
     "metadata": {},
     "output_type": "execute_result"
    }
   ],
   "source": [
    "a%b"
   ]
  },
  {
   "cell_type": "code",
   "execution_count": 53,
   "id": "40a5a1c2",
   "metadata": {},
   "outputs": [
    {
     "data": {
      "text/plain": [
       "tensor([[-1, -2],\n",
       "        [-3, -4]])"
      ]
     },
     "execution_count": 53,
     "metadata": {},
     "output_type": "execute_result"
    }
   ],
   "source": [
    "torch.neg(a)"
   ]
  },
  {
   "cell_type": "code",
   "execution_count": 56,
   "id": "1a63bff6",
   "metadata": {},
   "outputs": [
    {
     "data": {
      "text/plain": [
       "tensor([[0.9468, 0.6157],\n",
       "        [0.6299, 0.9876]])"
      ]
     },
     "execution_count": 56,
     "metadata": {},
     "output_type": "execute_result"
    }
   ],
   "source": [
    "x = torch.rand((2,2), dtype=torch.float32)\n",
    "x"
   ]
  },
  {
   "cell_type": "code",
   "execution_count": 55,
   "id": "d8fb777b",
   "metadata": {},
   "outputs": [
    {
     "data": {
      "text/plain": [
       "tensor([[0., 0.],\n",
       "        [1., 1.]])"
      ]
     },
     "execution_count": 55,
     "metadata": {},
     "output_type": "execute_result"
    }
   ],
   "source": [
    "torch.round(x)"
   ]
  },
  {
   "cell_type": "code",
   "execution_count": 57,
   "id": "36d16aa5",
   "metadata": {},
   "outputs": [
    {
     "data": {
      "text/plain": [
       "tensor([[0.8000, 0.6157],\n",
       "        [0.6299, 0.8000]])"
      ]
     },
     "execution_count": 57,
     "metadata": {},
     "output_type": "execute_result"
    }
   ],
   "source": [
    "torch.clamp(x, min=0.2, max=0.8)"
   ]
  },
  {
   "cell_type": "code",
   "execution_count": 69,
   "id": "6d328aaa",
   "metadata": {},
   "outputs": [
    {
     "data": {
      "text/plain": [
       "tensor([[0.8269, 0.0231, 0.4309],\n",
       "        [0.7658, 0.8663, 0.7352]])"
      ]
     },
     "execution_count": 69,
     "metadata": {},
     "output_type": "execute_result"
    }
   ],
   "source": [
    "#reduction operations\n",
    "e = torch.rand((2, 3), dtype=torch.float32)\n",
    "e"
   ]
  },
  {
   "cell_type": "code",
   "execution_count": 70,
   "id": "8fa93006",
   "metadata": {},
   "outputs": [
    {
     "data": {
      "text/plain": [
       "tensor(3.6483)"
      ]
     },
     "execution_count": 70,
     "metadata": {},
     "output_type": "execute_result"
    }
   ],
   "source": [
    "torch.sum(e)"
   ]
  },
  {
   "cell_type": "code",
   "execution_count": 71,
   "id": "cbe7289a",
   "metadata": {},
   "outputs": [
    {
     "data": {
      "text/plain": [
       "tensor([1.5927, 0.8894, 1.1661])"
      ]
     },
     "execution_count": 71,
     "metadata": {},
     "output_type": "execute_result"
    }
   ],
   "source": [
    "torch.sum(e, dim=0)"
   ]
  },
  {
   "cell_type": "code",
   "execution_count": 72,
   "id": "bcc59a75",
   "metadata": {},
   "outputs": [
    {
     "data": {
      "text/plain": [
       "tensor([1.2808, 2.3674])"
      ]
     },
     "execution_count": 72,
     "metadata": {},
     "output_type": "execute_result"
    }
   ],
   "source": [
    "torch.sum(e, dim=1)"
   ]
  },
  {
   "cell_type": "code",
   "execution_count": 73,
   "id": "7a015541",
   "metadata": {},
   "outputs": [
    {
     "data": {
      "text/plain": [
       "tensor(0.6080)"
      ]
     },
     "execution_count": 73,
     "metadata": {},
     "output_type": "execute_result"
    }
   ],
   "source": [
    "torch.mean(e)"
   ]
  },
  {
   "cell_type": "code",
   "execution_count": 76,
   "id": "a72e6a76",
   "metadata": {},
   "outputs": [
    {
     "data": {
      "text/plain": [
       "tensor(0.7352)"
      ]
     },
     "execution_count": 76,
     "metadata": {},
     "output_type": "execute_result"
    }
   ],
   "source": [
    "torch.median(e)\n"
   ]
  },
  {
   "cell_type": "code",
   "execution_count": 77,
   "id": "d8d0bd0b",
   "metadata": {},
   "outputs": [
    {
     "data": {
      "text/plain": [
       "tensor([[19, 22],\n",
       "        [43, 50]])"
      ]
     },
     "execution_count": 77,
     "metadata": {},
     "output_type": "execute_result"
    }
   ],
   "source": [
    "torch.matmul(a,b)"
   ]
  },
  {
   "cell_type": "code",
   "execution_count": 78,
   "id": "15e2df5c",
   "metadata": {},
   "outputs": [
    {
     "data": {
      "text/plain": [
       "tensor(0.0231)"
      ]
     },
     "execution_count": 78,
     "metadata": {},
     "output_type": "execute_result"
    }
   ],
   "source": [
    "torch.max(e)\n",
    "torch.min(e)\n"
   ]
  },
  {
   "cell_type": "code",
   "execution_count": 79,
   "id": "2b311c59",
   "metadata": {},
   "outputs": [
    {
     "data": {
      "text/plain": [
       "tensor(4)"
      ]
     },
     "execution_count": 79,
     "metadata": {},
     "output_type": "execute_result"
    }
   ],
   "source": [
    "torch.argmax(e)"
   ]
  },
  {
   "cell_type": "code",
   "execution_count": 80,
   "id": "dfff5b1f",
   "metadata": {},
   "outputs": [
    {
     "data": {
      "text/plain": [
       "tensor(1)"
      ]
     },
     "execution_count": 80,
     "metadata": {},
     "output_type": "execute_result"
    }
   ],
   "source": [
    "torch.argmin(e)"
   ]
  },
  {
   "cell_type": "code",
   "execution_count": 96,
   "id": "816a0e07",
   "metadata": {},
   "outputs": [],
   "source": [
    "i = torch.tensor(([[1, 2], [3, 4]]), dtype=torch.float32)\n",
    "j = torch.tensor([[5, 6], [7, 8]])"
   ]
  },
  {
   "cell_type": "code",
   "execution_count": 97,
   "id": "8c7e8d79",
   "metadata": {},
   "outputs": [
    {
     "data": {
      "text/plain": [
       "tensor([[False, False],\n",
       "        [False, False]])"
      ]
     },
     "execution_count": 97,
     "metadata": {},
     "output_type": "execute_result"
    }
   ],
   "source": [
    "i>j"
   ]
  },
  {
   "cell_type": "code",
   "execution_count": 98,
   "id": "34933a16",
   "metadata": {},
   "outputs": [
    {
     "data": {
      "text/plain": [
       "tensor([[False, False],\n",
       "        [False, False]])"
      ]
     },
     "execution_count": 98,
     "metadata": {},
     "output_type": "execute_result"
    }
   ],
   "source": [
    "i == j"
   ]
  },
  {
   "cell_type": "code",
   "execution_count": 99,
   "id": "8c1a824d",
   "metadata": {},
   "outputs": [
    {
     "data": {
      "text/plain": [
       "tensor([[True, True],\n",
       "        [True, True]])"
      ]
     },
     "execution_count": 99,
     "metadata": {},
     "output_type": "execute_result"
    }
   ],
   "source": [
    "i!=j"
   ]
  },
  {
   "cell_type": "code",
   "execution_count": 100,
   "id": "05e8f2e0",
   "metadata": {},
   "outputs": [
    {
     "data": {
      "text/plain": [
       "tensor([[ 2.7183,  7.3891],\n",
       "        [20.0855, 54.5981]])"
      ]
     },
     "execution_count": 100,
     "metadata": {},
     "output_type": "execute_result"
    }
   ],
   "source": [
    "#special function \n",
    "torch.exp(i)"
   ]
  },
  {
   "cell_type": "code",
   "execution_count": 101,
   "id": "575d5872",
   "metadata": {},
   "outputs": [
    {
     "data": {
      "text/plain": [
       "tensor([[0.0000, 0.6931],\n",
       "        [1.0986, 1.3863]])"
      ]
     },
     "execution_count": 101,
     "metadata": {},
     "output_type": "execute_result"
    }
   ],
   "source": [
    "torch.log(i)"
   ]
  },
  {
   "cell_type": "code",
   "execution_count": 102,
   "id": "6bca7aee",
   "metadata": {},
   "outputs": [
    {
     "data": {
      "text/plain": [
       "tensor([[1.0000, 1.4142],\n",
       "        [1.7321, 2.0000]])"
      ]
     },
     "execution_count": 102,
     "metadata": {},
     "output_type": "execute_result"
    }
   ],
   "source": [
    "torch.sqrt(i)"
   ]
  },
  {
   "cell_type": "code",
   "execution_count": 103,
   "id": "1de2d090",
   "metadata": {},
   "outputs": [
    {
     "data": {
      "text/plain": [
       "tensor([[0.7311, 0.8808],\n",
       "        [0.9526, 0.9820]])"
      ]
     },
     "execution_count": 103,
     "metadata": {},
     "output_type": "execute_result"
    }
   ],
   "source": [
    "torch.sigmoid(i)"
   ]
  },
  {
   "cell_type": "code",
   "execution_count": 104,
   "id": "cd992559",
   "metadata": {},
   "outputs": [
    {
     "data": {
      "text/plain": [
       "tensor([[0.2689, 0.7311],\n",
       "        [0.2689, 0.7311]])"
      ]
     },
     "execution_count": 104,
     "metadata": {},
     "output_type": "execute_result"
    }
   ],
   "source": [
    "torch.softmax(i , dim=1)"
   ]
  },
  {
   "cell_type": "code",
   "execution_count": 105,
   "id": "8e3ee5e2",
   "metadata": {},
   "outputs": [
    {
     "data": {
      "text/plain": [
       "tensor([[1., 2.],\n",
       "        [3., 4.]])"
      ]
     },
     "execution_count": 105,
     "metadata": {},
     "output_type": "execute_result"
    }
   ],
   "source": [
    "torch.relu(i)"
   ]
  },
  {
   "cell_type": "code",
   "execution_count": 107,
   "id": "cc63422a",
   "metadata": {},
   "outputs": [
    {
     "data": {
      "text/plain": [
       "tensor([[ 6.,  8.],\n",
       "        [10., 12.]])"
      ]
     },
     "execution_count": 107,
     "metadata": {},
     "output_type": "execute_result"
    }
   ],
   "source": [
    "i.add_(j)"
   ]
  },
  {
   "cell_type": "code",
   "execution_count": 108,
   "id": "3925a289",
   "metadata": {},
   "outputs": [
    {
     "data": {
      "text/plain": [
       "tensor([[ 6.,  8.],\n",
       "        [10., 12.]])"
      ]
     },
     "execution_count": 108,
     "metadata": {},
     "output_type": "execute_result"
    }
   ],
   "source": [
    "i"
   ]
  },
  {
   "cell_type": "code",
   "execution_count": 109,
   "id": "5e45c17f",
   "metadata": {},
   "outputs": [
    {
     "data": {
      "text/plain": [
       "tensor([[ 6.,  8.],\n",
       "        [10., 12.]])"
      ]
     },
     "execution_count": 109,
     "metadata": {},
     "output_type": "execute_result"
    }
   ],
   "source": [
    "i.relu_()"
   ]
  },
  {
   "cell_type": "code",
   "execution_count": 112,
   "id": "f09a8259",
   "metadata": {},
   "outputs": [
    {
     "data": {
      "text/plain": [
       "tensor([[0.9975, 0.9997],\n",
       "        [1.0000, 1.0000]])"
      ]
     },
     "execution_count": 112,
     "metadata": {},
     "output_type": "execute_result"
    }
   ],
   "source": [
    "i.sigmoid_()\n"
   ]
  },
  {
   "cell_type": "code",
   "execution_count": 114,
   "id": "69af3051",
   "metadata": {},
   "outputs": [],
   "source": [
    "#copying of tensor\n",
    "a =torch.rand((3,3), dtype=torch.float32)"
   ]
  },
  {
   "cell_type": "code",
   "execution_count": 115,
   "id": "7c6fbec5",
   "metadata": {},
   "outputs": [
    {
     "data": {
      "text/plain": [
       "tensor([[0.4149, 0.1916, 0.8850],\n",
       "        [0.6717, 0.7811, 0.9678],\n",
       "        [0.0939, 0.2783, 0.6625]])"
      ]
     },
     "execution_count": 115,
     "metadata": {},
     "output_type": "execute_result"
    }
   ],
   "source": [
    "b=a\n",
    "b"
   ]
  },
  {
   "cell_type": "code",
   "execution_count": 116,
   "id": "b0891ccb",
   "metadata": {},
   "outputs": [],
   "source": [
    "a[0][0] = 0"
   ]
  },
  {
   "cell_type": "code",
   "execution_count": 117,
   "id": "d0fecac5",
   "metadata": {},
   "outputs": [
    {
     "data": {
      "text/plain": [
       "tensor([[0.0000, 0.1916, 0.8850],\n",
       "        [0.6717, 0.7811, 0.9678],\n",
       "        [0.0939, 0.2783, 0.6625]])"
      ]
     },
     "execution_count": 117,
     "metadata": {},
     "output_type": "execute_result"
    }
   ],
   "source": [
    "a"
   ]
  },
  {
   "cell_type": "code",
   "execution_count": 118,
   "id": "8970823c",
   "metadata": {},
   "outputs": [
    {
     "data": {
      "text/plain": [
       "tensor([[0.0000, 0.1916, 0.8850],\n",
       "        [0.6717, 0.7811, 0.9678],\n",
       "        [0.0939, 0.2783, 0.6625]])"
      ]
     },
     "execution_count": 118,
     "metadata": {},
     "output_type": "execute_result"
    }
   ],
   "source": [
    "b"
   ]
  },
  {
   "cell_type": "code",
   "execution_count": 119,
   "id": "601b79be",
   "metadata": {},
   "outputs": [
    {
     "data": {
      "text/plain": [
       "2251622678704"
      ]
     },
     "execution_count": 119,
     "metadata": {},
     "output_type": "execute_result"
    }
   ],
   "source": [
    "id(a)"
   ]
  },
  {
   "cell_type": "code",
   "execution_count": 120,
   "id": "8db7c37f",
   "metadata": {},
   "outputs": [
    {
     "data": {
      "text/plain": [
       "2251622678704"
      ]
     },
     "execution_count": 120,
     "metadata": {},
     "output_type": "execute_result"
    }
   ],
   "source": [
    "id(b)"
   ]
  },
  {
   "cell_type": "code",
   "execution_count": 121,
   "id": "3b4c62c1",
   "metadata": {},
   "outputs": [],
   "source": [
    "b = a.clone()"
   ]
  },
  {
   "cell_type": "code",
   "execution_count": 122,
   "id": "58ca138d",
   "metadata": {},
   "outputs": [],
   "source": [
    "a[1][1] = 0"
   ]
  },
  {
   "cell_type": "code",
   "execution_count": 123,
   "id": "4f6e95fc",
   "metadata": {},
   "outputs": [
    {
     "data": {
      "text/plain": [
       "tensor([[0.0000, 0.1916, 0.8850],\n",
       "        [0.6717, 0.0000, 0.9678],\n",
       "        [0.0939, 0.2783, 0.6625]])"
      ]
     },
     "execution_count": 123,
     "metadata": {},
     "output_type": "execute_result"
    }
   ],
   "source": [
    "a\n"
   ]
  },
  {
   "cell_type": "code",
   "execution_count": 124,
   "id": "61a3b4c8",
   "metadata": {},
   "outputs": [
    {
     "data": {
      "text/plain": [
       "tensor([[0.0000, 0.1916, 0.8850],\n",
       "        [0.6717, 0.7811, 0.9678],\n",
       "        [0.0939, 0.2783, 0.6625]])"
      ]
     },
     "execution_count": 124,
     "metadata": {},
     "output_type": "execute_result"
    }
   ],
   "source": [
    "b"
   ]
  },
  {
   "cell_type": "code",
   "execution_count": 130,
   "id": "2e39b6c7",
   "metadata": {},
   "outputs": [],
   "source": [
    "#ON GPU\n",
    "#torch.cuda.is_available()\n",
    "#device = torch.device(\"cuda\")\n",
    "# torch.rand((2, 3), device=device)"
   ]
  },
  {
   "cell_type": "code",
   "execution_count": 131,
   "id": "f029a3da",
   "metadata": {},
   "outputs": [],
   "source": [
    "#reshaping tensors"
   ]
  },
  {
   "cell_type": "code",
   "execution_count": 132,
   "id": "5b91fb55",
   "metadata": {},
   "outputs": [],
   "source": [
    "a = torch.ones(4,4)"
   ]
  },
  {
   "cell_type": "code",
   "execution_count": 133,
   "id": "5a184fd3",
   "metadata": {},
   "outputs": [
    {
     "data": {
      "text/plain": [
       "tensor([[[[1., 1.],\n",
       "          [1., 1.]],\n",
       "\n",
       "         [[1., 1.],\n",
       "          [1., 1.]]],\n",
       "\n",
       "\n",
       "        [[[1., 1.],\n",
       "          [1., 1.]],\n",
       "\n",
       "         [[1., 1.],\n",
       "          [1., 1.]]]])"
      ]
     },
     "execution_count": 133,
     "metadata": {},
     "output_type": "execute_result"
    }
   ],
   "source": [
    "a.reshape(2,2,2,2)"
   ]
  },
  {
   "cell_type": "code",
   "execution_count": 134,
   "id": "70fc169a",
   "metadata": {},
   "outputs": [
    {
     "data": {
      "text/plain": [
       "tensor([1., 1., 1., 1., 1., 1., 1., 1., 1., 1., 1., 1., 1., 1., 1., 1.])"
      ]
     },
     "execution_count": 134,
     "metadata": {},
     "output_type": "execute_result"
    }
   ],
   "source": [
    "a.flatten()"
   ]
  },
  {
   "cell_type": "code",
   "execution_count": 136,
   "id": "ce088cd7",
   "metadata": {},
   "outputs": [
    {
     "data": {
      "text/plain": [
       "tensor([[[0.3185, 0.0736, 0.8207, 0.0632],\n",
       "         [0.2209, 0.5754, 0.4852, 0.9558],\n",
       "         [0.7107, 0.9437, 0.9792, 0.3233]],\n",
       "\n",
       "        [[0.9831, 0.1146, 0.0751, 0.5488],\n",
       "         [0.5408, 0.7843, 0.3529, 0.1745],\n",
       "         [0.9341, 0.4805, 0.6665, 0.2746]]])"
      ]
     },
     "execution_count": 136,
     "metadata": {},
     "output_type": "execute_result"
    }
   ],
   "source": [
    "b = torch.rand(2, 3, 4)\n",
    "b"
   ]
  },
  {
   "cell_type": "code",
   "execution_count": 137,
   "id": "5f97bdd3",
   "metadata": {},
   "outputs": [
    {
     "data": {
      "text/plain": [
       "tensor([[[0.3185, 0.2209, 0.7107],\n",
       "         [0.9831, 0.5408, 0.9341]],\n",
       "\n",
       "        [[0.0736, 0.5754, 0.9437],\n",
       "         [0.1146, 0.7843, 0.4805]],\n",
       "\n",
       "        [[0.8207, 0.4852, 0.9792],\n",
       "         [0.0751, 0.3529, 0.6665]],\n",
       "\n",
       "        [[0.0632, 0.9558, 0.3233],\n",
       "         [0.5488, 0.1745, 0.2746]]])"
      ]
     },
     "execution_count": 137,
     "metadata": {},
     "output_type": "execute_result"
    }
   ],
   "source": [
    "b.permute(2, 0 , 1)"
   ]
  },
  {
   "cell_type": "code",
   "execution_count": 138,
   "id": "eca003e6",
   "metadata": {},
   "outputs": [
    {
     "data": {
      "text/plain": [
       "torch.Size([4, 2, 3])"
      ]
     },
     "execution_count": 138,
     "metadata": {},
     "output_type": "execute_result"
    }
   ],
   "source": [
    "b.permute(2, 0, 1).shape"
   ]
  },
  {
   "cell_type": "code",
   "execution_count": 141,
   "id": "bbf869d4",
   "metadata": {},
   "outputs": [],
   "source": [
    "\n",
    "c = torch.rand(226, 226, 3)"
   ]
  },
  {
   "cell_type": "code",
   "execution_count": 143,
   "id": "f74314e5",
   "metadata": {},
   "outputs": [
    {
     "data": {
      "text/plain": [
       "torch.Size([226, 1, 226, 3])"
      ]
     },
     "execution_count": 143,
     "metadata": {},
     "output_type": "execute_result"
    }
   ],
   "source": [
    "c.unsqueeze(1).shape"
   ]
  },
  {
   "cell_type": "code",
   "execution_count": 144,
   "id": "d92148eb",
   "metadata": {},
   "outputs": [],
   "source": [
    "d= torch.rand(1,20)"
   ]
  },
  {
   "cell_type": "code",
   "execution_count": 145,
   "id": "2bb47ab7",
   "metadata": {},
   "outputs": [
    {
     "data": {
      "text/plain": [
       "torch.Size([20])"
      ]
     },
     "execution_count": 145,
     "metadata": {},
     "output_type": "execute_result"
    }
   ],
   "source": [
    "d.squeeze(0).shape"
   ]
  },
  {
   "cell_type": "code",
   "execution_count": 146,
   "id": "d2660310",
   "metadata": {},
   "outputs": [],
   "source": [
    "#numpy and pytorch"
   ]
  },
  {
   "cell_type": "code",
   "execution_count": 147,
   "id": "bb5abbdc",
   "metadata": {},
   "outputs": [],
   "source": [
    "import numpy as np \n"
   ]
  },
  {
   "cell_type": "code",
   "execution_count": 148,
   "id": "bc796219",
   "metadata": {},
   "outputs": [],
   "source": [
    "a= torch.rand(2, 3)"
   ]
  },
  {
   "cell_type": "code",
   "execution_count": 149,
   "id": "6d35d9b5",
   "metadata": {},
   "outputs": [
    {
     "data": {
      "text/plain": [
       "tensor([[0.0823, 0.5872, 0.2641],\n",
       "        [0.4957, 0.2770, 0.2901]])"
      ]
     },
     "execution_count": 149,
     "metadata": {},
     "output_type": "execute_result"
    }
   ],
   "source": [
    "a"
   ]
  },
  {
   "cell_type": "code",
   "execution_count": 151,
   "id": "5fed50a3",
   "metadata": {},
   "outputs": [],
   "source": [
    "b = a.numpy()"
   ]
  },
  {
   "cell_type": "code",
   "execution_count": 154,
   "id": "32e99959",
   "metadata": {},
   "outputs": [
    {
     "data": {
      "text/plain": [
       "numpy.ndarray"
      ]
     },
     "execution_count": 154,
     "metadata": {},
     "output_type": "execute_result"
    }
   ],
   "source": [
    "type(b)"
   ]
  },
  {
   "cell_type": "code",
   "execution_count": 155,
   "id": "a5bea0da",
   "metadata": {},
   "outputs": [],
   "source": [
    "c= np.zeros((2, 3))"
   ]
  },
  {
   "cell_type": "code",
   "execution_count": 156,
   "id": "ed0bfd3f",
   "metadata": {},
   "outputs": [
    {
     "data": {
      "text/plain": [
       "array([[0., 0., 0.],\n",
       "       [0., 0., 0.]])"
      ]
     },
     "execution_count": 156,
     "metadata": {},
     "output_type": "execute_result"
    }
   ],
   "source": [
    "c"
   ]
  },
  {
   "cell_type": "code",
   "execution_count": 158,
   "id": "7606452e",
   "metadata": {},
   "outputs": [
    {
     "data": {
      "text/plain": [
       "tensor([[0., 0., 0.],\n",
       "        [0., 0., 0.]], dtype=torch.float64)"
      ]
     },
     "execution_count": 158,
     "metadata": {},
     "output_type": "execute_result"
    }
   ],
   "source": [
    "torch.from_numpy(c)"
   ]
  },
  {
   "cell_type": "code",
   "execution_count": null,
   "id": "b26c81ae",
   "metadata": {},
   "outputs": [],
   "source": []
  }
 ],
 "metadata": {
  "kernelspec": {
   "display_name": "Python 3",
   "language": "python",
   "name": "python3"
  },
  "language_info": {
   "codemirror_mode": {
    "name": "ipython",
    "version": 3
   },
   "file_extension": ".py",
   "mimetype": "text/x-python",
   "name": "python",
   "nbconvert_exporter": "python",
   "pygments_lexer": "ipython3",
   "version": "3.11.0"
  }
 },
 "nbformat": 4,
 "nbformat_minor": 5
}
